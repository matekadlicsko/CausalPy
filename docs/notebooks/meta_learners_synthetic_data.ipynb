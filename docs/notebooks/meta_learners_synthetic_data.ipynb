{
 "cells": [
  {
   "cell_type": "markdown",
   "id": "fafe7c80-fc2d-47d4-b260-c5a1082d6fbb",
   "metadata": {},
   "source": [
    "# Comparing meta-learners with different ensembles of trees as base learners"
   ]
  },
  {
   "cell_type": "markdown",
   "id": "3ccc6766-7606-4b6b-8c76-b4b5b732c988",
   "metadata": {},
   "source": [
    "## Introduction\n",
    "\n",
    "Meta-learners are a class of models used for estimating the effectiveness of a certain treatement and they are used when the effectiveness of a treatement is assumed to be *heterogeneous*, that is the effect of the treatement might vary across individuals. In particular, they estimate the treatement effectiveness by decomposing the problem to several subregressions. The models used for these subregressions will be called *base learners*. Some of the most popular base learners are tree based ensembles, in particular Random Forest and Bayesian Additive Regression Trees (BART) due to their flexibility, however any machine learning algorithm suitable for regression problems can be used.\n",
    "\n",
    "Following [1], we will denote by $Y$ an outcome vector, by $X_i \\in \\mathbb{R}^d$ a feature vector containing potential confounders for the $i$th unit, by $W_i \\in \\{0, 1\\}$ the treatment assignment indicator and by  $Y_i (0) \\in \\mathbb{R}$ and $Y_i(1) \\in \\mathbb{R}$ the potential outcome of the $i$th unit when assigned to the control and the treatement group respectively. With this notation\n",
    "\n",
    "$$ Y = W Y(1) + (1 - W) Y(0). $$\n",
    "\n",
    "Our task is to estimate the *conditional average treatement effect (CATE)*, defined as \n",
    "$$\\tau(x) = \\mathbb{E}\\left[Y(1) - Y(0) \\mid X=x\\right].$$\n",
    "\n",
    "The goal of this notebook is to introduce several meta-learners and compare their performance estimating CATE. The evaluation of an estimation $\\hat{\\tau}$ of $\\tau$ will be based on *expected mean squared error* defined as \n",
    "$$\\operatorname{EMSE}(\\tau) = \\mathbb{E}\\left[\\left(\\tau(X) - \\hat{\\tau}(X)\\right)^2\\right].$$"
   ]
  },
  {
   "cell_type": "markdown",
   "id": "ed73c7c9-7df5-4912-80f4-c5e69c916c22",
   "metadata": {},
   "source": [
    "## The fundamental problem of causal inference\n",
    "\n",
    "The fact that only one of the potential outcomes ever materializes, means that CATE is never directly observed, thus on real world data, EMSE cannot be computed. This is often refered to as *the fundamental problem of causal inference*. To get around this problem, in this notebook we will deal with synthetic data with data generating process of the form\n",
    "$$y = 10\\sigma(\\alpha X) + W \\sigma(\\beta X) + \\varepsilon,$$\n",
    "where $\\varepsilon_i \\sim N(0, 1)$ and $W_i \\sim \\operatorname{Bernoulli}\\left(\\frac14\\right)$ are i.i.d. and $$\\sigma(x) = \\frac{e^x}{1 + e^x}$$ is the sigmoid function (applied coordinatewise).\n",
    "Here, CATE can be expressed as $\\tau(X) = \\sigma(\\beta X)$."
   ]
  },
  {
   "cell_type": "code",
   "execution_count": 24,
   "id": "c543b717-acb7-4c7f-aa77-975833dbf699",
   "metadata": {
    "tags": []
   },
   "outputs": [],
   "source": [
    "import numpy as np\n",
    "import pandas as pd\n",
    "from causalpy.skl_meta_learners import SLearner, TLearner, XLearner, DRLearner\n",
    "from sklearn.metrics import mean_squared_error\n",
    "from sklearn.ensemble import HistGradientBoostingRegressor\n",
    "\n",
    "np.random.seed(42)\n",
    "\n",
    "def sigmoid(x):\n",
    "    return np.exp(x) / (1 + np.exp(x))\n",
    "\n",
    "def create_synthetic_data(*shape):\n",
    "    X = np.random.rand(*shape)\n",
    "\n",
    "    α = np.random.rand(shape[1])\n",
    "    β = np.random.rand(shape[1])\n",
    "\n",
    "    treatment = np.random.binomial(n=1, p=.25, size=shape[0])\n",
    "    treatment_effect = sigmoid(X @ β)\n",
    "\n",
    "    noise = np.random.rand(shape[0])\n",
    "\n",
    "    y = 10 * sigmoid(X @ α) + treatment_effect * treatment + noise\n",
    "\n",
    "    X = pd.DataFrame(X, columns=[f'feature_{i}' for i in range(shape[1])])\n",
    "    y = pd.Series(y, name='target')\n",
    "    treated = pd.Series(treatment, name='treatment')\n",
    "    return X, y, treated, treatment_effect\n",
    "\n",
    "X, y, treated, treatment_effect = create_synthetic_data(1000, 10)"
   ]
  },
  {
   "cell_type": "markdown",
   "id": "9cf837e1-d93c-4fc5-bc52-96296db82e51",
   "metadata": {
    "tags": []
   },
   "source": [
    "## S-learner\n",
    "\n",
    "The simplest meta-learner is the *S-learner*, which treats the treatement assignment indicator as a feature and estimates \n",
    "\n",
    "$$\\mu(x, w) := \\mathbb{E}[Y \\mid X=x, W=w]$$\n",
    "\n",
    "with an appropriate base learner. The \"S\" in S-learner stands for \"single\", as it uses a single model to estimate CATE. We will denote this estimation with $\\hat{\\mu}(x, w)$. Then the S-learner approximates CATE as  \n",
    "\n",
    "$$\\hat{\\tau_S}(x) = \\hat{\\mu}(x, 1) - \\hat{\\mu}(x, 0).$$\n",
    "\n",
    "In the following example we will choose `HistGradientBoostingRegressor` as base learner."
   ]
  },
  {
   "cell_type": "code",
   "execution_count": 25,
   "id": "454322d0-6dbc-4771-bb7a-344afa30e793",
   "metadata": {},
   "outputs": [
    {
     "name": "stdout",
     "output_type": "stream",
     "text": [
      "Number of observations:             1000\n",
      "Number of treated observations:     261\n",
      "Average treatement effect (ATE):    0.8825372188727141\n",
      "95% Confidence interval for ATE:    (0.5336478252676806, 1.3368338911656805)\n",
      "Estimated bias:                     -0.005333370586446671\n",
      "Actual average treatement effect: 0.8686759437628603\n",
      "EMSE: 0.0489448259669642\n",
      "CPU times: total: 8min 50s\n",
      "Wall time: 1min 11s\n"
     ]
    }
   ],
   "source": [
    "%%time\n",
    "# Utility for printing some statistics.\n",
    "def summarize_learner(learner):\n",
    "    learner.summary(n_iter=100)\n",
    "    print(f\"Actual average treatement effect: {treatment_effect.mean()}\")\n",
    "    print(f\"EMSE: {mean_squared_error(treatment_effect, learner.cate)}\")\n",
    "\n",
    "slearner = SLearner(\n",
    "    X=X,\n",
    "    y=y,\n",
    "    treated=treated,\n",
    "    model=HistGradientBoostingRegressor()\n",
    ")\n",
    "\n",
    "summarize_learner(slearner)"
   ]
  },
  {
   "cell_type": "markdown",
   "id": "d552d0e9-5d6c-4d4b-bde8-80c680a51e62",
   "metadata": {},
   "source": [
    "**TODO: Do some plotting. As of now it plots the distribution of the CATE estimates. While that is not totally uninteresting, it is not good either.**\n",
    "\n",
    "More ideas: \n",
    "- feature to estimated CATE scatter plot?\n",
    "- several SHAP related things?\n",
    "- ...?"
   ]
  },
  {
   "cell_type": "code",
   "execution_count": 26,
   "id": "059fd652-3fa9-42d3-b639-a48d96263314",
   "metadata": {},
   "outputs": [
    {
     "data": {
      "image/png": "[encoded data removed]",
      "text/plain": [
       "<Figure size 720x480 with 1 Axes>"
      ]
     },
     "metadata": {},
     "output_type": "display_data"
    }
   ],
   "source": [
    "slearner.plot()"
   ]
  },
  {
   "cell_type": "markdown",
   "id": "3fe391b5-d8df-438f-ace2-0406d19e5813",
   "metadata": {},
   "source": [
    "Eventough, the S-learner performs quite well in our synthetic example, it has some limitations. Most importantly, since the treatement indicator is included in the regression as an ordinary variable, it's effect may get lost, especially if the base learner is a tree based ensemble."
   ]
  },
  {
   "cell_type": "markdown",
   "id": "c3d35f7f-6526-4b7d-ac36-2365fc08cb5d",
   "metadata": {},
   "source": [
    "## T-learner"
   ]
  },
  {
   "cell_type": "markdown",
   "id": "54a8971c-5eef-4423-893e-9277e8a40ac1",
   "metadata": {},
   "source": [
    "The *T-learner* solves the issue mentioned above by predicting $Y(0)$ and $Y(1)$ in two different regressions. Namely, we estimate\n",
    "$$\\mu_{\\operatorname{treated}}(x) := \\mathbb{E}[Y(1) \\mid X=x], \\quad \\text{and} \\quad \\mu_{\\operatorname{untreated}}(x) := \\mathbb{E}[Y(0) \\mid X=x]$$\n",
    "separately and define estimate the cate as\n",
    "$$\\hat{\\tau}_T(x) = \\hat{\\mu}_{\\operatorname{treated}}(x) - \\hat{\\mu}_{\\operatorname{untreated}}(x),$$\n",
    "where $\\hat{\\mu}_{\\operatorname{treated}}$ and $\\hat{\\mu}_{\\operatorname{untreated}}$ are the estimated functions. \n",
    "\n",
    "Again, we will choose *both* models to be `HistGradientBoostingRegressor`."
   ]
  },
  {
   "cell_type": "code",
   "execution_count": 28,
   "id": "2a24a76e-398a-4629-9d49-7fadecb2a2c7",
   "metadata": {},
   "outputs": [
    {
     "name": "stdout",
     "output_type": "stream",
     "text": [
      "Number of observations:             1000\n",
      "Number of treated observations:     261\n",
      "Average treatement effect (ATE):    0.8778680189940496\n",
      "95% Confidence interval for ATE:    (0.44254662378948145, 1.4724386927005046)\n",
      "Estimated bias:                     0.0075568485724106125\n",
      "Actual average treatement effect: 0.8686759437628603\n",
      "EMSE: 0.09250244262195867\n",
      "CPU times: total: 11min 16s\n",
      "Wall time: 1min 32s\n"
     ]
    }
   ],
   "source": [
    "%%time\n",
    "tlearner = TLearner(\n",
    "    X=X,\n",
    "    y=y,\n",
    "    treated=treated,\n",
    "    model=HistGradientBoostingRegressor()\n",
    ")\n",
    "\n",
    "\n",
    "summarize_learner(tlearner)"
   ]
  },
  {
   "cell_type": "markdown",
   "id": "7bef7acd-3d29-4b2a-b364-a915a30f4f46",
   "metadata": {},
   "source": [
    "# X-learner\n",
    "The X-learner performs better than other CATE estimators when\n",
    "- one of the treatement groups is significantly larger than the other one, \n",
    "- when the CATE function has structural properties such as sparsity or smoothness, it can provably adapt [1].\n",
    "\n",
    "Very similarly, to the T-learner, the X-learner first estimates $\\mu_{\\operatorname{treated}}$ and $\\mu_{\\operatorname{untreated}}$. Next, it computes \n",
    "\n",
    "$$D(1) := Y(1) - \\hat{\\mu}_{\\operatorname{untreated}}(X(1)), \\quad \\text{and} \\quad D(0) = \\hat{\\mu}_{\\operatorname{treated}}(X(0)) - Y(0).$$\n",
    "\n",
    "Note that if $\\hat{\\mu}_{\\operatorname{untreated}} = \\mu_{\\operatorname{untreated}}$ and $\\hat{\\mu}_{\\operatorname{treated}} = \\mu_{\\operatorname{treated}}$, then $\\tau(x) = \\mathbb{E}[D(1) | X=x] = \\mathbb{E}[D(0) | X=x]$, so CATE can be estimated by regressing onto $D(0)$ or $D(1)$. Let us denote these estimations by $\\tau_0$ and $\\tau_1$, respectively. \n",
    "\n",
    "Finally, the X-learner computes a weighted average of the two CATE estimates, that is \n",
    "$$\\hat{\\tau}_X(x) = g(x)\\hat{\\tau}_0 + (1 - g(x))\\hat{\\tau_1}(x),$$\n",
    "for some weight function $g: \\mathbb{R}^d \\rightarrow [0, 1]$."
   ]
  },
  {
   "cell_type": "code",
   "execution_count": 29,
   "id": "250bd516-b1ad-452f-b26c-e0eafc3747f8",
   "metadata": {},
   "outputs": [
    {
     "name": "stdout",
     "output_type": "stream",
     "text": [
      "Number of observations:             1000\n",
      "Number of treated observations:     261\n",
      "Average treatement effect (ATE):    0.8656013308211011\n",
      "95% Confidence interval for ATE:    (0.5670698664248546, 1.2446227193486425)\n",
      "Estimated bias:                     -0.0031460678827127334\n",
      "Actual average treatement effect: 0.8686759437628603\n",
      "EMSE: 0.03875185597434108\n",
      "CPU times: total: 22min 8s\n",
      "Wall time: 3min 2s\n"
     ]
    }
   ],
   "source": [
    "%%time\n",
    "xlearner = XLearner(X=X, y=y, treated=treated, model=HistGradientBoostingRegressor())\n",
    "\n",
    "summarize_learner(xlearner)"
   ]
  },
  {
   "cell_type": "markdown",
   "id": "2668f04a-6a8a-495d-b14c-6a61d15ff795",
   "metadata": {},
   "source": [
    "In CausalPy, we obtain $g$ as an estimation of the so-called *propensity score*, that is the conditional probability of a unit receiving treatment given $X$. By default, we use logistic regression to obtain this estimation. However, in case one of the treatement groups is much larger than the other one, it makes sense to set $g \\equiv 0$ or $g \\equiv 1$. This can be done the following way. "
   ]
  },
  {
   "cell_type": "code",
   "execution_count": 37,
   "id": "aaab018b-c95e-4c29-9163-410e39cd34de",
   "metadata": {},
   "outputs": [
    {
     "name": "stdout",
     "output_type": "stream",
     "text": [
      "Number of observations:             1000\n",
      "Number of treated observations:     261\n",
      "Average treatement effect (ATE):    0.8285314927602266\n",
      "95% Confidence interval for ATE:    (0.5295382157583198, 1.275838462466607)\n",
      "Estimated bias:                     -0.010891457791703623\n",
      "Actual average treatement effect: 0.8686759437628603\n",
      "EMSE: 0.03875185597434108\n",
      "CPU times: total: 22min 37s\n",
      "Wall time: 3min 2s\n"
     ]
    }
   ],
   "source": [
    "%%time\n",
    "from sklearn.dummy import DummyClassifier\n",
    "\n",
    "xlearner_mf = XLearner(\n",
    "    X=X,\n",
    "    y=y,\n",
    "    treated=treated,\n",
    "    model=HistGradientBoostingRegressor(),\n",
    "    propensity_score_model=DummyClassifier(strategy=\"most_frequent\")\n",
    ")\n",
    "\n",
    "summarize_learner(xlearner_mf)"
   ]
  },
  {
   "cell_type": "code",
   "execution_count": 38,
   "id": "e6ae334d-c413-43ff-98b3-02e6071c4d7d",
   "metadata": {},
   "outputs": [
    {
     "name": "stdout",
     "output_type": "stream",
     "text": [
      "Number of observations:             1000\n",
      "Number of treated observations:     261\n",
      "Average treatement effect (ATE):    0.8257963466324518\n",
      "95% Confidence interval for ATE:    (0.6015347065733898, 1.2304421938761037)\n",
      "Estimated bias:                     -0.005635485886235879\n",
      "Actual average treatement effect: 0.8686759437628603\n",
      "EMSE: 0.03875185584711515\n",
      "CPU times: total: 29min 2s\n",
      "Wall time: 4min 7s\n"
     ]
    }
   ],
   "source": [
    "%%time\n",
    "from xgboost import XGBClassifier\n",
    "\n",
    "xlearner_mf = XLearner(\n",
    "    X=X,\n",
    "    y=y,\n",
    "    treated=treated,\n",
    "    model=HistGradientBoostingRegressor(),\n",
    "    propensity_score_model=XGBClassifier()\n",
    ")\n",
    "\n",
    "summarize_learner(xlearner_mf)"
   ]
  },
  {
   "cell_type": "markdown",
   "id": "6a499cc5-2fcf-4016-978b-c3c28c861d5a",
   "metadata": {},
   "source": [
    "# DR-learner\n",
    "The DR-learner ..."
   ]
  },
  {
   "cell_type": "code",
   "execution_count": 35,
   "id": "687aa584-b8af-4863-a7cf-570e86080057",
   "metadata": {},
   "outputs": [
    {
     "name": "stdout",
     "output_type": "stream",
     "text": [
      "Number of observations:             1000\n",
      "Number of treated observations:     261\n",
      "Average treatement effect (ATE):    0.8617951727930917\n",
      "95% Confidence interval for ATE:    (0.4540090400090874, 1.4731133930096414)\n",
      "Estimated bias:                     0.001972318343075466\n",
      "Actual average treatement effect: 0.8686759437628603\n",
      "EMSE: 0.1859824363704813\n",
      "CPU times: total: 11min 25s\n",
      "Wall time: 1min 32s\n"
     ]
    }
   ],
   "source": [
    "%%time\n",
    "drlearner = DRLearner(X=X, y=y, treated=treated, model=HistGradientBoostingRegressor())\n",
    "\n",
    "summarize_learner(drlearner)"
   ]
  },
  {
   "cell_type": "code",
   "execution_count": 19,
   "id": "648ef110-5a67-4eca-8ff0-0ddb0308c866",
   "metadata": {},
   "outputs": [],
   "source": [
    "from sklearn.ensemble import RandomForestRegressor, HistGradientBoostingRegressor, AdaBoostRegressor\n",
    "from lightgbm import LGBMRegressor"
   ]
  },
  {
   "cell_type": "code",
   "execution_count": 22,
   "id": "a2cc2c39-2690-4943-90a9-b90fd2a60972",
   "metadata": {},
   "outputs": [],
   "source": [
    "def compute_emse(learner, m):\n",
    "    l = learner(X_train, y_train, treated_train, m)\n",
    "    return mean_squared_error(effect_train, l.cate)"
   ]
  },
  {
   "cell_type": "code",
   "execution_count": 26,
   "id": "3552a561-8051-4a51-832a-5e088a106689",
   "metadata": {},
   "outputs": [],
   "source": [
    "models = [\n",
    "    (\"Random forest\", RandomForestRegressor()),\n",
    "    (\"Hist gradient boosting\", HistGradientBoostingRegressor()),\n",
    "    (\"AdaBoost\", AdaBoostRegressor()),\n",
    "    (\"XGBoost\", XGBRegressor()),\n",
    "    (\"LightGBM\", LGBMRegressor())\n",
    "]\n",
    "bench = pd.DataFrame({\n",
    "    m_name: {\n",
    "            'SLearner':  compute_emse( SLearner, m),\n",
    "            'TLearner':  compute_emse( TLearner, m),\n",
    "            'XLearner':  compute_emse( XLearner, m),\n",
    "            'DRLearner': compute_emse(DRLearner, m)\n",
    "        } for m_name, m in models\n",
    "})"
   ]
  },
  {
   "cell_type": "code",
   "execution_count": 27,
   "id": "7eed6094-c940-4b5b-8294-bd2ffeab2eac",
   "metadata": {},
   "outputs": [
    {
     "data": {
      "text/html": [
       "<div>\n",
       "<style scoped>\n",
       "    .dataframe tbody tr th:only-of-type {\n",
       "        vertical-align: middle;\n",
       "    }\n",
       "\n",
       "    .dataframe tbody tr th {\n",
       "        vertical-align: top;\n",
       "    }\n",
       "\n",
       "    .dataframe thead th {\n",
       "        text-align: right;\n",
       "    }\n",
       "</style>\n",
       "<table border=\"1\" class=\"dataframe\">\n",
       "  <thead>\n",
       "    <tr style=\"text-align: right;\">\n",
       "      <th></th>\n",
       "      <th>Random forest</th>\n",
       "      <th>Hist gradient boosting</th>\n",
       "      <th>AdaBoost</th>\n",
       "      <th>XGBoost</th>\n",
       "      <th>LightGBM</th>\n",
       "    </tr>\n",
       "  </thead>\n",
       "  <tbody>\n",
       "    <tr>\n",
       "      <th>SLearner</th>\n",
       "      <td>0.043266</td>\n",
       "      <td>0.028720</td>\n",
       "      <td>0.005436</td>\n",
       "      <td>0.048527</td>\n",
       "      <td>0.030729</td>\n",
       "    </tr>\n",
       "    <tr>\n",
       "      <th>TLearner</th>\n",
       "      <td>0.045308</td>\n",
       "      <td>0.055968</td>\n",
       "      <td>0.011586</td>\n",
       "      <td>0.109095</td>\n",
       "      <td>0.052863</td>\n",
       "    </tr>\n",
       "    <tr>\n",
       "      <th>XLearner</th>\n",
       "      <td>0.027551</td>\n",
       "      <td>0.042998</td>\n",
       "      <td>0.008828</td>\n",
       "      <td>0.069227</td>\n",
       "      <td>0.041362</td>\n",
       "    </tr>\n",
       "    <tr>\n",
       "      <th>DRLearner</th>\n",
       "      <td>0.164998</td>\n",
       "      <td>0.179821</td>\n",
       "      <td>0.279397</td>\n",
       "      <td>0.109630</td>\n",
       "      <td>0.184410</td>\n",
       "    </tr>\n",
       "  </tbody>\n",
       "</table>\n",
       "</div>"
      ],
      "text/plain": [
       "           Random forest  Hist gradient boosting  AdaBoost   XGBoost  LightGBM\n",
       "SLearner        0.043266                0.028720  0.005436  0.048527  0.030729\n",
       "TLearner        0.045308                0.055968  0.011586  0.109095  0.052863\n",
       "XLearner        0.027551                0.042998  0.008828  0.069227  0.041362\n",
       "DRLearner       0.164998                0.179821  0.279397  0.109630  0.184410"
      ]
     },
     "execution_count": 27,
     "metadata": {},
     "output_type": "execute_result"
    }
   ],
   "source": [
    "bench"
   ]
  },
  {
   "cell_type": "markdown",
   "id": "093a6965-0ef3-4d7b-93d8-138b7602517a",
   "metadata": {},
   "source": [
    "# TODO: EMSE as a function of population size"
   ]
  }
 ],
 "metadata": {
  "kernelspec": {
   "display_name": "Python 3 (ipykernel)",
   "language": "python",
   "name": "python3"
  },
  "language_info": {
   "codemirror_mode": {
    "name": "ipython",
    "version": 3
   },
   "file_extension": ".py",
   "mimetype": "text/x-python",
   "name": "python",
   "nbconvert_exporter": "python",
   "pygments_lexer": "ipython3",
   "version": "3.10.9"
  }
 },
 "nbformat": 4,
 "nbformat_minor": 5
}
